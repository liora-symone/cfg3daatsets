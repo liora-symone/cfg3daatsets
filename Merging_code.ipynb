{
  "nbformat": 4,
  "nbformat_minor": 0,
  "metadata": {
    "colab": {
      "provenance": []
    },
    "kernelspec": {
      "name": "python3",
      "display_name": "Python 3"
    },
    "language_info": {
      "name": "python"
    }
  },
  "cells": [
    {
      "cell_type": "code",
      "execution_count": null,
      "metadata": {
        "id": "pTs69_wJn_i5"
      },
      "outputs": [],
      "source": [
        "import pandas as pd\n",
        "\n",
        "# List of CSV file names\n",
        "file_names = ['coldplay/headofdreams_clean_v2.csv', 'coldplay/myloxyloto_clean_v2.csv', 'coldplay/rushofblood_clean_v2.csv', 'coldplay/vivalavida_clean_v2.csv', 'coldplay/ghoststories_clean.csv']\n",
        "\n",
        "# Create an empty DataFrame to store the concatenated data\n",
        "coldplay_merged_df = pd.DataFrame()\n",
        "\n",
        "# Loop through the list of file names\n",
        "for file_name in file_names:\n",
        "    # Read each CSV file into a separate DataFrame\n",
        "    df = pd.read_csv(file_name)\n",
        "\n",
        "    # Concatenate the DataFrames\n",
        "    coldplay_merged_df = pd.concat([coldplay_merged_df_df, df], ignore_index=True)"
      ]
    },
    {
      "cell_type": "code",
      "source": [
        "# sample code to add a new file to concatenate\n",
        "new_file_name = 'new_data.csv' # use the path of the file\n",
        "new_df = pd.read_csv(new_file_name)\n",
        "concatenated_df = pd.concat([concatenated_df, new_df], ignore_index=True)"
      ],
      "metadata": {
        "id": "7VYy97vvujuY"
      },
      "execution_count": null,
      "outputs": []
    },
    {
      "cell_type": "code",
      "source": [
        "# Replace empty values with None\n",
        "concatenated_df = concatenated_df.fillna(value=None)\n",
        "\n",
        "# Save the updated DataFrame to a new CSV file\n",
        "concatenated_df.to_csv('concatenated_data_with_null.csv', index=False)"
      ],
      "metadata": {
        "id": "Rw82BxR2u833"
      },
      "execution_count": null,
      "outputs": []
    }
  ]
}